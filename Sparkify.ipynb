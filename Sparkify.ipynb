{
 "cells": [
  {
   "cell_type": "markdown",
   "metadata": {},
   "source": [
    "# Sparkify Project Workspace\n",
    "This workspace contains a tiny subset (128MB) of the full dataset available (12GB). Feel free to use this workspace to build your project, or to explore a smaller subset with Spark before deploying your cluster on the cloud. Instructions for setting up your Spark cluster is included in the last lesson of the Extracurricular Spark Course content.\n",
    "\n",
    "You can follow the steps below to guide your data analysis and model building portion of this project."
   ]
  },
  {
   "cell_type": "code",
   "execution_count": 2,
   "metadata": {},
   "outputs": [],
   "source": [
    "# import libraries\n",
    "from pyspark.sql import SparkSession\n",
    "import pyspark.sql.functions as F \n",
    "from pyspark.sql.functions import isnan, when, count, col, udf,from_unixtime\n",
    "from pyspark.sql.types import IntegerType,StringType,LongType, DateType, TimestampType\n",
    "from pyspark.ml.feature import StandardScaler, VectorAssembler\n",
    "from pyspark.ml.classification import LogisticRegression,RandomForestClassifier,GBTClassifier\n",
    "from pyspark.ml.evaluation import MulticlassClassificationEvaluator\n",
    "from pyspark.ml.tuning import CrossValidator, ParamGridBuilder\n",
    "import datetime\n",
    "\n",
    "import pandas as pd\n",
    "import numpy as np\n",
    "import matplotlib.pyplot as plt\n",
    "\n",
    "%matplotlib inline"
   ]
  },
  {
   "cell_type": "code",
   "execution_count": 3,
   "metadata": {},
   "outputs": [],
   "source": [
    "# create a Spark session\n",
    "spark = SparkSession\\\n",
    "        .builder\\\n",
    "        .appName('sparkify churn prediction')\\\n",
    "        .getOrCreate()"
   ]
  },
  {
   "cell_type": "markdown",
   "metadata": {},
   "source": [
    "# Load and Clean Dataset\n",
    "In this workspace, the mini-dataset file is `mini_sparkify_event_data.json`. Load and clean the dataset, checking for invalid or missing data - for example, records without userids or sessionids. "
   ]
  },
  {
   "cell_type": "code",
   "execution_count": 4,
   "metadata": {},
   "outputs": [],
   "source": [
    "df = spark.read.json('mini_sparkify_event_data.json')"
   ]
  },
  {
   "cell_type": "code",
   "execution_count": 5,
   "metadata": {},
   "outputs": [
    {
     "name": "stdout",
     "output_type": "stream",
     "text": [
      "root\n",
      " |-- artist: string (nullable = true)\n",
      " |-- auth: string (nullable = true)\n",
      " |-- firstName: string (nullable = true)\n",
      " |-- gender: string (nullable = true)\n",
      " |-- itemInSession: long (nullable = true)\n",
      " |-- lastName: string (nullable = true)\n",
      " |-- length: double (nullable = true)\n",
      " |-- level: string (nullable = true)\n",
      " |-- location: string (nullable = true)\n",
      " |-- method: string (nullable = true)\n",
      " |-- page: string (nullable = true)\n",
      " |-- registration: long (nullable = true)\n",
      " |-- sessionId: long (nullable = true)\n",
      " |-- song: string (nullable = true)\n",
      " |-- status: long (nullable = true)\n",
      " |-- ts: long (nullable = true)\n",
      " |-- userAgent: string (nullable = true)\n",
      " |-- userId: string (nullable = true)\n",
      "\n"
     ]
    }
   ],
   "source": [
    "df.printSchema()"
   ]
  },
  {
   "cell_type": "markdown",
   "metadata": {},
   "source": [
    "Create a temporary view against which you can run SQL queries."
   ]
  },
  {
   "cell_type": "code",
   "execution_count": 6,
   "metadata": {},
   "outputs": [],
   "source": [
    "df.createOrReplaceTempView(\"user_log_table\")"
   ]
  },
  {
   "cell_type": "code",
   "execution_count": 5,
   "metadata": {},
   "outputs": [
    {
     "name": "stdout",
     "output_type": "stream",
     "text": [
      "+----------------+---------+---------+------+-------------+--------+---------+-----+--------------------+------+--------+-------------+---------+---------+------+-------------+--------------------+------+\n",
      "|          artist|     auth|firstName|gender|itemInSession|lastName|   length|level|            location|method|    page| registration|sessionId|     song|status|           ts|           userAgent|userId|\n",
      "+----------------+---------+---------+------+-------------+--------+---------+-----+--------------------+------+--------+-------------+---------+---------+------+-------------+--------------------+------+\n",
      "|  Martha Tilston|Logged In|    Colin|     M|           50| Freeman|277.89016| paid|     Bakersfield, CA|   PUT|NextSong|1538173362000|       29|Rockpools|   200|1538352117000|Mozilla/5.0 (Wind...|    30|\n",
      "|Five Iron Frenzy|Logged In|    Micah|     M|           79|    Long|236.09424| free|Boston-Cambridge-...|   PUT|NextSong|1538331630000|        8|   Canada|   200|1538352180000|\"Mozilla/5.0 (Win...|     9|\n",
      "+----------------+---------+---------+------+-------------+--------+---------+-----+--------------------+------+--------+-------------+---------+---------+------+-------------+--------------------+------+\n",
      "\n"
     ]
    }
   ],
   "source": [
    "spark.sql(\"SELECT * FROM user_log_table LIMIT 2\").show()"
   ]
  },
  {
   "cell_type": "code",
   "execution_count": 8,
   "metadata": {},
   "outputs": [
    {
     "name": "stdout",
     "output_type": "stream",
     "text": [
      "+--------------------+\n",
      "|                page|\n",
      "+--------------------+\n",
      "|               About|\n",
      "|          Add Friend|\n",
      "|     Add to Playlist|\n",
      "|              Cancel|\n",
      "|Cancellation Conf...|\n",
      "|           Downgrade|\n",
      "|               Error|\n",
      "|                Help|\n",
      "|                Home|\n",
      "|               Login|\n",
      "|              Logout|\n",
      "|            NextSong|\n",
      "|            Register|\n",
      "|         Roll Advert|\n",
      "|       Save Settings|\n",
      "|            Settings|\n",
      "|    Submit Downgrade|\n",
      "| Submit Registration|\n",
      "|      Submit Upgrade|\n",
      "|         Thumbs Down|\n",
      "+--------------------+\n",
      "only showing top 20 rows\n",
      "\n"
     ]
    }
   ],
   "source": [
    "spark.sql(\"SELECT DISTINCT page FROM user_log_table ORDER BY 1\").show()"
   ]
  },
  {
   "cell_type": "code",
   "execution_count": 9,
   "metadata": {},
   "outputs": [
    {
     "name": "stdout",
     "output_type": "stream",
     "text": [
      "+------+----+\n",
      "|userId| num|\n",
      "+------+----+\n",
      "|      |8346|\n",
      "|    10| 795|\n",
      "|   100|3214|\n",
      "|100001| 187|\n",
      "|100002| 218|\n",
      "|100003|  78|\n",
      "|100004|1245|\n",
      "|100005| 216|\n",
      "|100006|  44|\n",
      "|100007| 520|\n",
      "|100008| 940|\n",
      "|100009| 671|\n",
      "|100010| 381|\n",
      "|100011|  23|\n",
      "|100012| 600|\n",
      "|100013|1392|\n",
      "|100014| 310|\n",
      "|100015|1050|\n",
      "|100016| 638|\n",
      "|100017|  75|\n",
      "+------+----+\n",
      "only showing top 20 rows\n",
      "\n"
     ]
    }
   ],
   "source": [
    "# check missing values in userId column\n",
    "spark.sql(\"SELECT userId,COUNT(*) AS num FROM user_log_table GROUP BY userId ORDER BY 1\").show()"
   ]
  },
  {
   "cell_type": "code",
   "execution_count": 9,
   "metadata": {},
   "outputs": [
    {
     "name": "stdout",
     "output_type": "stream",
     "text": [
      "+---------+---+\n",
      "|sessionId|num|\n",
      "+---------+---+\n",
      "|        1|714|\n",
      "|        2|  7|\n",
      "|        3| 38|\n",
      "|        4| 24|\n",
      "|        5| 58|\n",
      "|        6| 71|\n",
      "|        7|  1|\n",
      "|        8| 49|\n",
      "|        9|197|\n",
      "|       10|176|\n",
      "|       11| 47|\n",
      "|       12| 60|\n",
      "|       13|122|\n",
      "|       15|220|\n",
      "|       16| 39|\n",
      "|       17|171|\n",
      "|       18| 30|\n",
      "|       19|158|\n",
      "|       20| 29|\n",
      "|       21|138|\n",
      "+---------+---+\n",
      "only showing top 20 rows\n",
      "\n"
     ]
    }
   ],
   "source": [
    "# check missing values in sessionId column\n",
    "spark.sql(\"SELECT sessionId, COUNT(*) AS num FROM user_log_table GROUP BY sessionId ORDER BY 1\").show()"
   ]
  },
  {
   "cell_type": "markdown",
   "metadata": {},
   "source": [
    "8346 rows have missing userId. No missing values exist in sessionId column."
   ]
  },
  {
   "cell_type": "code",
   "execution_count": 7,
   "metadata": {},
   "outputs": [],
   "source": [
    "# Remove rows with missing userId\n",
    "user_log_valid = df.filter(df['userId']!='')"
   ]
  },
  {
   "cell_type": "code",
   "execution_count": 12,
   "metadata": {},
   "outputs": [
    {
     "data": {
      "text/plain": [
       "286500"
      ]
     },
     "execution_count": 12,
     "metadata": {},
     "output_type": "execute_result"
    }
   ],
   "source": [
    "df.count()"
   ]
  },
  {
   "cell_type": "code",
   "execution_count": 13,
   "metadata": {},
   "outputs": [
    {
     "data": {
      "text/plain": [
       "278154"
      ]
     },
     "execution_count": 13,
     "metadata": {},
     "output_type": "execute_result"
    }
   ],
   "source": [
    "user_log_valid.count()"
   ]
  },
  {
   "cell_type": "code",
   "execution_count": 17,
   "metadata": {},
   "outputs": [
    {
     "name": "stdout",
     "output_type": "stream",
     "text": [
      "+------+----+---------+------+-------------+--------+------+-----+--------+------+----+------------+---------+-----+------+---+---------+------+\n",
      "|artist|auth|firstName|gender|itemInSession|lastName|length|level|location|method|page|registration|sessionId| song|status| ts|userAgent|userId|\n",
      "+------+----+---------+------+-------------+--------+------+-----+--------+------+----+------------+---------+-----+------+---+---------+------+\n",
      "| 50046|   0|        0|     0|            0|       0| 50046|    0|       0|     0|   0|           0|        0|50046|     0|  0|        0|     0|\n",
      "+------+----+---------+------+-------------+--------+------+-----+--------+------+----+------------+---------+-----+------+---+---------+------+\n",
      "\n"
     ]
    }
   ],
   "source": [
    "user_log_valid.select([count(when(isnan(c) | col(c).isNull(), c)).alias(c) for c in user_log_valid.columns]).show()"
   ]
  },
  {
   "cell_type": "code",
   "execution_count": 22,
   "metadata": {},
   "outputs": [
    {
     "data": {
      "text/plain": [
       "[Row(artist=None, page='Cancel', song=None),\n",
       " Row(artist=None, page='Submit Downgrade', song=None),\n",
       " Row(artist=None, page='Thumbs Down', song=None),\n",
       " Row(artist=None, page='Home', song=None),\n",
       " Row(artist=None, page='Downgrade', song=None),\n",
       " Row(artist=None, page='Roll Advert', song=None),\n",
       " Row(artist=None, page='Logout', song=None),\n",
       " Row(artist=None, page='Save Settings', song=None),\n",
       " Row(artist=None, page='Cancellation Confirmation', song=None),\n",
       " Row(artist=None, page='About', song=None),\n",
       " Row(artist=None, page='Settings', song=None),\n",
       " Row(artist=None, page='Add to Playlist', song=None),\n",
       " Row(artist=None, page='Add Friend', song=None),\n",
       " Row(artist=None, page='Thumbs Up', song=None),\n",
       " Row(artist=None, page='Help', song=None),\n",
       " Row(artist=None, page='Upgrade', song=None),\n",
       " Row(artist=None, page='Error', song=None),\n",
       " Row(artist=None, page='Submit Upgrade', song=None)]"
      ]
     },
     "execution_count": 22,
     "metadata": {},
     "output_type": "execute_result"
    }
   ],
   "source": [
    "user_log_valid.select([\"artist\", \"page\", \"song\"]).where(user_log_valid.artist.isNull()).dropDuplicates().collect()"
   ]
  },
  {
   "cell_type": "markdown",
   "metadata": {},
   "source": [
    "artist, length and song columns also have missing values but that's due the action is not playing songs."
   ]
  },
  {
   "cell_type": "markdown",
   "metadata": {},
   "source": [
    "# Exploratory Data Analysis\n",
    "When you're working with the full dataset, perform EDA by loading a small subset of the data and doing basic manipulations within Spark. In this workspace, you are already provided a small subset of data you can explore.\n",
    "\n",
    "### Define Churn\n",
    "\n",
    "Once you've done some preliminary analysis, create a column `Churn` to use as the label for your model. I suggest using the `Cancellation Confirmation` events to define your churn, which happen for both paid and free users. As a bonus task, you can also look into the `Downgrade` events.\n",
    "\n",
    "### Explore Data\n",
    "Once you've defined churn, perform some exploratory data analysis to observe the behavior for users who stayed vs users who churned. You can start by exploring aggregates on these two groups of users, observing how much of a specific action they experienced per a certain time unit or number of songs played."
   ]
  },
  {
   "cell_type": "code",
   "execution_count": 8,
   "metadata": {},
   "outputs": [],
   "source": [
    "# Define churn\n",
    "churn_event = udf(lambda x: 1 if x ==\"Cancellation Confirmation\" else 0, IntegerType())"
   ]
  },
  {
   "cell_type": "code",
   "execution_count": 9,
   "metadata": {},
   "outputs": [
    {
     "data": {
      "text/plain": [
       "Row(artist='Martha Tilston', auth='Logged In', firstName='Colin', gender='M', itemInSession=50, lastName='Freeman', length=277.89016, level='paid', location='Bakersfield, CA', method='PUT', page='NextSong', registration=1538173362000, sessionId=29, song='Rockpools', status=200, ts=1538352117000, userAgent='Mozilla/5.0 (Windows NT 6.1; WOW64; rv:31.0) Gecko/20100101 Firefox/31.0', userId='30', churn=0)"
      ]
     },
     "execution_count": 9,
     "metadata": {},
     "output_type": "execute_result"
    }
   ],
   "source": [
    "user_log_valid = user_log_valid.withColumn(\"churn\",churn_event(\"page\"))\n",
    "user_log_valid.head()"
   ]
  },
  {
   "cell_type": "code",
   "execution_count": 10,
   "metadata": {},
   "outputs": [],
   "source": [
    "# churn vs not churn using SQL\n",
    "user_log_valid.createOrReplaceTempView('user_log_table')"
   ]
  },
  {
   "cell_type": "code",
   "execution_count": 10,
   "metadata": {},
   "outputs": [
    {
     "name": "stdout",
     "output_type": "stream",
     "text": [
      "+----------+--------+\n",
      "|churn_flag|num_user|\n",
      "+----------+--------+\n",
      "|         1|      52|\n",
      "|         0|     173|\n",
      "+----------+--------+\n",
      "\n"
     ]
    }
   ],
   "source": [
    "spark.sql('''\n",
    "          SELECT churn_flag,count(DISTINCT userId) AS num_user \n",
    "          FROM (SELECT a.*, MAX(churn) OVER(PARTITION BY userId) AS churn_flag \n",
    "          FROM user_log_table a)\n",
    "          GROUP BY churn_flag\n",
    "          '''\n",
    "          ).show()"
   ]
  },
  {
   "cell_type": "markdown",
   "metadata": {},
   "source": [
    "About 1/5 users churned in the dataset."
   ]
  },
  {
   "cell_type": "code",
   "execution_count": 11,
   "metadata": {},
   "outputs": [
    {
     "data": {
      "text/plain": [
       "<function __main__.<lambda>(x)>"
      ]
     },
     "execution_count": 11,
     "metadata": {},
     "output_type": "execute_result"
    }
   ],
   "source": [
    "spark.udf.register(\"get_time\", lambda x: datetime.datetime.fromtimestamp(x/1000.0),TimestampType())"
   ]
  },
  {
   "cell_type": "code",
   "execution_count": 78,
   "metadata": {},
   "outputs": [
    {
     "name": "stdout",
     "output_type": "stream",
     "text": [
      "+------+---------------+---------+-------------------+-------------------+-----+-----+\n",
      "|userId|           page|sessionId|          timestamp|         regis_time|level|churn|\n",
      "+------+---------------+---------+-------------------+-------------------+-----+-----+\n",
      "|    30|       NextSong|       29|2018-09-30 20:01:57|2018-09-28 18:22:42| paid|    0|\n",
      "|    30|       NextSong|       29|2018-09-30 20:06:34|2018-09-28 18:22:42| paid|    0|\n",
      "|    30|       NextSong|       29|2018-09-30 20:11:16|2018-09-28 18:22:42| paid|    0|\n",
      "|    30|       NextSong|       29|2018-09-30 20:14:59|2018-09-28 18:22:42| paid|    0|\n",
      "|    30|Add to Playlist|       29|2018-09-30 20:15:05|2018-09-28 18:22:42| paid|    0|\n",
      "|    30|       NextSong|       29|2018-09-30 20:18:04|2018-09-28 18:22:42| paid|    0|\n",
      "|    30|       NextSong|       29|2018-09-30 20:20:18|2018-09-28 18:22:42| paid|    0|\n",
      "|    30|       NextSong|       29|2018-09-30 20:24:01|2018-09-28 18:22:42| paid|    0|\n",
      "|    30|       NextSong|       29|2018-09-30 20:28:07|2018-09-28 18:22:42| paid|    0|\n",
      "|    30|       NextSong|       29|2018-09-30 20:31:49|2018-09-28 18:22:42| paid|    0|\n",
      "|    30|       NextSong|       29|2018-09-30 20:35:32|2018-09-28 18:22:42| paid|    0|\n",
      "|    30|       NextSong|       29|2018-09-30 20:39:25|2018-09-28 18:22:42| paid|    0|\n",
      "|    30|       NextSong|       29|2018-09-30 20:43:04|2018-09-28 18:22:42| paid|    0|\n",
      "|    30|       NextSong|       29|2018-09-30 20:46:46|2018-09-28 18:22:42| paid|    0|\n",
      "|    30|       NextSong|       29|2018-09-30 20:49:05|2018-09-28 18:22:42| paid|    0|\n",
      "|    30|       NextSong|       29|2018-09-30 20:54:16|2018-09-28 18:22:42| paid|    0|\n",
      "|    30|       NextSong|       29|2018-09-30 20:57:53|2018-09-28 18:22:42| paid|    0|\n",
      "|    30|       NextSong|       29|2018-09-30 21:01:51|2018-09-28 18:22:42| paid|    0|\n",
      "|    30|       NextSong|       29|2018-09-30 21:05:15|2018-09-28 18:22:42| paid|    0|\n",
      "|    30|       NextSong|       29|2018-09-30 21:11:03|2018-09-28 18:22:42| paid|    0|\n",
      "+------+---------------+---------+-------------------+-------------------+-----+-----+\n",
      "only showing top 20 rows\n",
      "\n"
     ]
    }
   ],
   "source": [
    "spark.sql('''\n",
    "          SELECT userId,page,sessionId,get_time(ts) AS timestamp, get_time(registration) AS regis_time,level, churn\n",
    "          FROM user_log_table\n",
    "          WHERE userId = '30'\n",
    "          '''\n",
    "          ).show()"
   ]
  },
  {
   "cell_type": "markdown",
   "metadata": {},
   "source": [
    "from the above examples, we can find same session means a series actions happened in a continuous time period. Session would change if a person does not perform any action in a certain time period."
   ]
  },
  {
   "cell_type": "code",
   "execution_count": 74,
   "metadata": {},
   "outputs": [],
   "source": [
    "# average number of songs in each session for churn and not churn users\n",
    "song = spark.sql('''\n",
    "          SELECT round(AVG(num_songs),2) avg_songs,churn_flag\n",
    "          FROM\n",
    "          (SELECT userId,sessionId,churn_flag,COUNT(page) AS num_songs\n",
    "          FROM (SELECT a.*,MAX(churn) OVER(PARTITION BY userId) AS churn_flag FROM user_log_table AS a) \n",
    "          WHERE page = 'NextSong'\n",
    "          GROUP BY userId,sessionId,churn_flag)\n",
    "          GROUP BY churn_flag\n",
    "          ''')\n",
    "song.createOrReplaceTempView('song')"
   ]
  },
  {
   "cell_type": "code",
   "execution_count": 75,
   "metadata": {},
   "outputs": [],
   "source": [
    "# average time spent in each session for churn and not churn users\n",
    "time = spark.sql('''\n",
    "          SELECT round(AVG((UNIX_TIMESTAMP(end_time)-UNIX_TIMESTAMP(start_time))/60),2) AS avg_session_time, churn_flag\n",
    "          FROM\n",
    "          (SELECT DISTINCT userId, sessionId,MIN(get_time(ts)) OVER(PARTITION BY userId,sessionId) AS start_time, \n",
    "          MAX(get_time(ts)) OVER(PARTITION BY userId, sessionId) AS end_time, \n",
    "          MAX(churn) OVER(PARTITION BY userId) AS churn_flag \n",
    "          FROM user_log_table)\n",
    "          GROUP BY churn_flag          \n",
    "          ''')\n",
    "time.createOrReplaceTempView('time')"
   ]
  },
  {
   "cell_type": "code",
   "execution_count": 77,
   "metadata": {
    "scrolled": true
   },
   "outputs": [
    {
     "name": "stdout",
     "output_type": "stream",
     "text": [
      "+----------+---------+----------------+\n",
      "|churn_flag|avg_songs|avg_session_time|\n",
      "+----------+---------+----------------+\n",
      "|         1|    70.12|          283.23|\n",
      "|         0|    75.12|          302.88|\n",
      "+----------+---------+----------------+\n",
      "\n"
     ]
    }
   ],
   "source": [
    "spark.sql('''\n",
    "          SELECT *\n",
    "          from song join time using(churn_flag)\n",
    "          ''').show()"
   ]
  },
  {
   "cell_type": "code",
   "execution_count": 19,
   "metadata": {},
   "outputs": [
    {
     "name": "stdout",
     "output_type": "stream",
     "text": [
      "+------------------+----------+\n",
      "|      avg_thumbsup|churn_flag|\n",
      "+------------------+----------+\n",
      "|  4.74234693877551|         1|\n",
      "|5.3486743371685845|         0|\n",
      "+------------------+----------+\n",
      "\n"
     ]
    }
   ],
   "source": [
    "# average number of thumb up in each session for churn and not churn users\n",
    "spark.sql('''\n",
    "          SELECT AVG(num_thumbsup) avg_thumbsup,churn_flag\n",
    "          FROM\n",
    "          (SELECT userId,sessionId,churn_flag,COUNT(page) AS num_thumbsup\n",
    "          FROM (SELECT a.*,MAX(churn) OVER(PARTITION BY userId) AS churn_flag FROM user_log_table AS a) \n",
    "          WHERE page = 'Thumbs Up'\n",
    "          GROUP BY userId,sessionId,churn_flag)\n",
    "          GROUP BY churn_flag\n",
    "          ''').show()"
   ]
  },
  {
   "cell_type": "code",
   "execution_count": 21,
   "metadata": {},
   "outputs": [
    {
     "name": "stdout",
     "output_type": "stream",
     "text": [
      "+------------------+----------+\n",
      "|    avg_thumbsdown|churn_flag|\n",
      "+------------------+----------+\n",
      "|1.9760956175298805|         1|\n",
      "| 1.901669758812616|         0|\n",
      "+------------------+----------+\n",
      "\n"
     ]
    }
   ],
   "source": [
    "# average number of thumb down in each session for churn and not churn users\n",
    "spark.sql('''\n",
    "          SELECT AVG(num_thumbsdown) avg_thumbsdown,churn_flag\n",
    "          FROM\n",
    "          (SELECT userId,sessionId,churn_flag,COUNT(page) AS num_thumbsdown\n",
    "          FROM (SELECT a.*,MAX(churn) OVER(PARTITION BY userId) AS churn_flag FROM user_log_table AS a) \n",
    "          WHERE page = 'Thumbs Down'\n",
    "          GROUP BY userId,sessionId,churn_flag)\n",
    "          GROUP BY churn_flag\n",
    "          ''').show()"
   ]
  },
  {
   "cell_type": "code",
   "execution_count": 22,
   "metadata": {},
   "outputs": [
    {
     "name": "stdout",
     "output_type": "stream",
     "text": [
      "+----------+-------------+\n",
      "|churn_flag|num_downgrade|\n",
      "+----------+-------------+\n",
      "|         1|            9|\n",
      "|         0|           54|\n",
      "+----------+-------------+\n",
      "\n"
     ]
    }
   ],
   "source": [
    "# proportion of downgrade for churn and not churn users\n",
    "spark.sql('''\n",
    "          SELECT churn_flag,COUNT(page) AS num_downgrade\n",
    "          FROM\n",
    "          (SELECT a.*, MAX(churn) OVER(PARTITION BY userId) AS churn_flag FROM user_log_table AS a)\n",
    "          WHERE page = 'Submit Downgrade'\n",
    "          GROUP BY churn_flag\n",
    "          ''').show()"
   ]
  },
  {
   "cell_type": "code",
   "execution_count": 12,
   "metadata": {},
   "outputs": [],
   "source": [
    "user_log_flag = spark.sql('''\n",
    "                          SELECT a.*, get_time(ts) AS timestamp, get_time(registration) AS regis_time,\n",
    "                          MAX(churn) OVER(PARTITION BY userId) AS churn_flag \n",
    "                          FROM user_log_table AS a\n",
    "                          ''')"
   ]
  },
  {
   "cell_type": "code",
   "execution_count": 13,
   "metadata": {},
   "outputs": [],
   "source": [
    "user_log_flag.createOrReplaceTempView(\"user_log_flag\")"
   ]
  },
  {
   "cell_type": "code",
   "execution_count": 25,
   "metadata": {},
   "outputs": [
    {
     "name": "stdout",
     "output_type": "stream",
     "text": [
      "root\n",
      " |-- artist: string (nullable = true)\n",
      " |-- auth: string (nullable = true)\n",
      " |-- firstName: string (nullable = true)\n",
      " |-- gender: string (nullable = true)\n",
      " |-- itemInSession: long (nullable = true)\n",
      " |-- lastName: string (nullable = true)\n",
      " |-- length: double (nullable = true)\n",
      " |-- level: string (nullable = true)\n",
      " |-- location: string (nullable = true)\n",
      " |-- method: string (nullable = true)\n",
      " |-- page: string (nullable = true)\n",
      " |-- registration: long (nullable = true)\n",
      " |-- sessionId: long (nullable = true)\n",
      " |-- song: string (nullable = true)\n",
      " |-- status: long (nullable = true)\n",
      " |-- ts: long (nullable = true)\n",
      " |-- userAgent: string (nullable = true)\n",
      " |-- userId: string (nullable = true)\n",
      " |-- churn: integer (nullable = true)\n",
      " |-- timestamp: timestamp (nullable = true)\n",
      " |-- regis_time: timestamp (nullable = true)\n",
      " |-- churn_flag: integer (nullable = true)\n",
      "\n"
     ]
    }
   ],
   "source": [
    "user_log_flag.printSchema()"
   ]
  },
  {
   "cell_type": "markdown",
   "metadata": {},
   "source": [
    "# Feature Engineering\n",
    "Once you've familiarized yourself with the data, build out the features you find promising to train your model on. To work with the full dataset, you can follow the following steps.\n",
    "- Write a script to extract the necessary features from the smaller subset of data\n",
    "- Ensure that your script is scalable, using the best practices discussed in Lesson 3\n",
    "- Try your script on the full data set, debugging your script if necessary\n",
    "\n",
    "If you are working in the classroom workspace, you can just extract features based on the small subset of data contained here. Be sure to transfer over this work to the larger dataset when you work on your Spark cluster."
   ]
  },
  {
   "cell_type": "code",
   "execution_count": 14,
   "metadata": {},
   "outputs": [],
   "source": [
    "# get gender for each user\n",
    "gender = spark.sql('''\n",
    "                   SELECT DISTINCT userId, gender \n",
    "                   FROM user_log_flag\n",
    "                   ''')\n",
    "\n",
    "gender.createOrReplaceTempView(\"gender\")"
   ]
  },
  {
   "cell_type": "code",
   "execution_count": 15,
   "metadata": {},
   "outputs": [],
   "source": [
    "# days since registration\n",
    "days_regis = spark.sql('''\n",
    "          SELECT userId, DATEDIFF(TO_DATE(end_time),TO_DATE(regis_time)) AS time_since_regis\n",
    "          FROM\n",
    "          (SELECT DISTINCT userId, MAX(timestamp) OVER(PARTITION BY userId) AS end_time, regis_time \n",
    "          FROM user_log_flag)\n",
    "          ''')\n",
    "days_regis.createOrReplaceTempView(\"days_regis\")"
   ]
  },
  {
   "cell_type": "code",
   "execution_count": 16,
   "metadata": {},
   "outputs": [],
   "source": [
    "# total active days\n",
    "days_active = spark.sql('''\n",
    "          SELECT userId, COUNT(DISTINCT TO_DATE(timestamp)) days_active\n",
    "          FROM user_log_flag\n",
    "          GROUP BY userId\n",
    "          ''')\n",
    "days_active.createOrReplaceTempView(\"days_active\")"
   ]
  },
  {
   "cell_type": "code",
   "execution_count": 17,
   "metadata": {},
   "outputs": [],
   "source": [
    "# total number of sessions\n",
    "num_sessions = spark.sql('''\n",
    "          SELECT userId, COUNT(DISTINCT sessionId) num_session\n",
    "          FROM user_log_flag\n",
    "          GROUP BY userId\n",
    "          ''')\n",
    "num_sessions.createOrReplaceTempView(\"num_sessions\")"
   ]
  },
  {
   "cell_type": "code",
   "execution_count": 18,
   "metadata": {},
   "outputs": [],
   "source": [
    "# average length (mins) per session\n",
    "avg_session_time = spark.sql('''\n",
    "          SELECT userId, ROUND(AVG((UNIX_TIMESTAMP(end_time)-UNIX_TIMESTAMP(start_time))/60)) AS avg_session_time\n",
    "          FROM\n",
    "          (SELECT userId, sessionId, MIN(timestamp) AS start_time, MAX(timestamp) AS end_time\n",
    "          FROM user_log_flag\n",
    "          GROUP BY userId, sessionId)\n",
    "          GROUP BY userId\n",
    "          ''')\n",
    "avg_session_time.createOrReplaceTempView(\"avg_session_time\")"
   ]
  },
  {
   "cell_type": "code",
   "execution_count": 19,
   "metadata": {},
   "outputs": [],
   "source": [
    "# average number of songs per session\n",
    "avg_session_song = spark.sql('''\n",
    "          SELECT userId, ROUND(AVG(num_song)) AS avg_session_song\n",
    "          FROM\n",
    "          (SELECT userId, sessionId, COUNT(page) AS num_song\n",
    "          FROM user_log_flag\n",
    "          WHERE page ='NextSong'\n",
    "          GROUP BY userId, sessionId)\n",
    "          GROUP BY userId\n",
    "          ''')\n",
    "avg_session_song.createOrReplaceTempView(\"avg_session_song\")"
   ]
  },
  {
   "cell_type": "code",
   "execution_count": 20,
   "metadata": {},
   "outputs": [],
   "source": [
    "# whether downgrade\n",
    "downgrade = spark.sql('''\n",
    "          SELECT userId, MAX(downgrade) AS downgrade\n",
    "          FROM\n",
    "          (SELECT userId, CASE WHEN page = 'Submit Downgrade' THEN 1 ELSE 0 END downgrade\n",
    "          FROM user_log_flag)\n",
    "          GROUP BY userId\n",
    "          ''')\n",
    "downgrade.createOrReplaceTempView(\"downgrade\")"
   ]
  },
  {
   "cell_type": "code",
   "execution_count": 21,
   "metadata": {},
   "outputs": [],
   "source": [
    "# whether upgrade\n",
    "upgrade = spark.sql('''\n",
    "          SELECT userId, MAX(upgrade) AS upgrade\n",
    "          FROM\n",
    "          (SELECT userId, CASE WHEN page = 'Submit Upgrade' THEN 1 ELSE 0 END upgrade\n",
    "          FROM user_log_flag)\n",
    "          GROUP BY userId\n",
    "          ''')\n",
    "upgrade.createOrReplaceTempView(\"upgrade\")"
   ]
  },
  {
   "cell_type": "code",
   "execution_count": 22,
   "metadata": {},
   "outputs": [],
   "source": [
    "# average number of thumbs up per session\n",
    "avg_thumbsup_session = spark.sql('''\n",
    "          SELECT userId, ROUND(AVG(num_thumpsup)) AS avg_thumbsup_session\n",
    "          FROM\n",
    "          (SELECT userId, sessionId, COUNT(page) AS num_thumpsup\n",
    "          FROM user_log_flag\n",
    "          WHERE page ='Thumbs Up'\n",
    "          GROUP BY userId, sessionId)\n",
    "          GROUP BY userId\n",
    "          ''')\n",
    "\n",
    "avg_thumbsup_session.createOrReplaceTempView(\"avg_thumbsup_session\")"
   ]
  },
  {
   "cell_type": "code",
   "execution_count": 23,
   "metadata": {},
   "outputs": [],
   "source": [
    "# average number of thumbs downs per session\n",
    "avg_thumbsdown_session = spark.sql('''\n",
    "          SELECT userId, ROUND(AVG(num_thumpsdown)) AS avg_thumbsdown_session\n",
    "          FROM\n",
    "          (SELECT userId, sessionId, COUNT(page) AS num_thumpsdown\n",
    "          FROM user_log_flag\n",
    "          WHERE page ='Thumbs Down'\n",
    "          GROUP BY userId, sessionId)\n",
    "          GROUP BY userId\n",
    "          ''')\n",
    "avg_thumbsdown_session.createOrReplaceTempView(\"avg_thumbsdown_session\")"
   ]
  },
  {
   "cell_type": "code",
   "execution_count": 24,
   "metadata": {},
   "outputs": [],
   "source": [
    "# number of songs add to playlist\n",
    "song_playlist = spark.sql('''\n",
    "          SELECT userId, COUNT(page) AS song_palylist\n",
    "          FROM user_log_flag\n",
    "          WHERE page = 'Add to Playlist'\n",
    "          GROUP BY userId\n",
    "          ''')\n",
    "song_playlist.createOrReplaceTempView(\"song_playlist\")"
   ]
  },
  {
   "cell_type": "code",
   "execution_count": 25,
   "metadata": {},
   "outputs": [],
   "source": [
    "# number of friends\n",
    "num_friend = spark.sql('''\n",
    "          SELECT userId, COUNT(page) AS num_friend\n",
    "          FROM user_log_flag\n",
    "          WHERE page = 'Add Friend'\n",
    "          GROUP BY userId\n",
    "          ''')\n",
    "num_friend.createOrReplaceTempView(\"num_friend\")"
   ]
  },
  {
   "cell_type": "code",
   "execution_count": 26,
   "metadata": {},
   "outputs": [],
   "source": [
    "# average roll advert per session\n",
    "avg_rolladvert_session = spark.sql('''\n",
    "          SELECT userId, ROUND(AVG(num_rolladvert)) AS avg_rolladvert_session\n",
    "          FROM\n",
    "          (SELECT userId, sessionId, COUNT(page) AS num_rolladvert\n",
    "          FROM user_log_flag\n",
    "          WHERE page ='Roll Advert'\n",
    "          GROUP BY userId, sessionId)\n",
    "          GROUP BY userId\n",
    "          ''')\n",
    "avg_rolladvert_session.createOrReplaceTempView(\"avg_rolladvert_session\")"
   ]
  },
  {
   "cell_type": "code",
   "execution_count": 27,
   "metadata": {},
   "outputs": [],
   "source": [
    "# average number of help per session\n",
    "avg_help_session = spark.sql('''\n",
    "          SELECT userId, ROUND(AVG(num_help)) AS avg_help_session\n",
    "          FROM\n",
    "          (SELECT userId, sessionId, COUNT(page) AS num_help\n",
    "          FROM user_log_flag\n",
    "          WHERE page ='Help'\n",
    "          GROUP BY userId, sessionId)\n",
    "          GROUP BY userId\n",
    "          ''')\n",
    "avg_help_session.createOrReplaceTempView(\"avg_help_session\")"
   ]
  },
  {
   "cell_type": "code",
   "execution_count": 28,
   "metadata": {},
   "outputs": [],
   "source": [
    "#churn\n",
    "user_churn = spark.sql('''\n",
    "          SELECT userId, MAX(churn_flag) AS churn_flag\n",
    "          FROM user_log_flag\n",
    "          GROUP BY userId\n",
    "          ''')\n",
    "user_churn.createOrReplaceTempView(\"user_churn\")"
   ]
  },
  {
   "cell_type": "code",
   "execution_count": 29,
   "metadata": {},
   "outputs": [],
   "source": [
    "# join the above data\n",
    "final_df = spark.sql('''\n",
    "          SELECT * \n",
    "          FROM user_churn \n",
    "          LEFT OUTER JOIN gender USING(userId) \n",
    "          LEFT OUTER JOIN days_regis USING(userId)\n",
    "          LEFT OUTER JOIN days_active USING(userId)\n",
    "          LEFT OUTER JOIN num_sessions USING(userId)\n",
    "          LEFT OUTER JOIN avg_session_time USING(userId)\n",
    "          LEFT OUTER JOIN avg_session_song USING(userId)\n",
    "          LEFT OUTER JOIN downgrade USING(userId)\n",
    "          LEFT OUTER JOIN upgrade USING(userId)\n",
    "          LEFT OUTER JOIN avg_thumbsup_session USING(userId)\n",
    "          LEFT OUTER JOIN avg_thumbsdown_session USING(userId)\n",
    "          LEFT OUTER JOIN song_playlist USING(userId)\n",
    "          LEFT OUTER JOIN num_friend USING(userId)\n",
    "          LEFT OUTER JOIN avg_rolladvert_session USING(userId)\n",
    "          LEFT OUTER JOIN avg_help_session USING(userId)\n",
    "          '''\n",
    "          )"
   ]
  },
  {
   "cell_type": "code",
   "execution_count": 30,
   "metadata": {},
   "outputs": [],
   "source": [
    "# missing values are due lack of such kind of activities. fill missing values with 0.\n",
    "final_df = final_df.na.fill(0)"
   ]
  },
  {
   "cell_type": "code",
   "execution_count": 45,
   "metadata": {},
   "outputs": [
    {
     "data": {
      "text/plain": [
       "[Row(userId='100010', churn_flag=0, gender='F', time_since_regis=55, days_active=7, num_session=7, avg_session_time=154.0, avg_session_song=39.0, downgrade=0, upgrade=0, avg_thumbsup_session=3.0, avg_thumbsdown_session=1.0, song_palylist=7, num_friend=4, avg_rolladvert_session=9.0, avg_help_session=1.0),\n",
       " Row(userId='200002', churn_flag=0, gender='M', time_since_regis=70, days_active=7, num_session=6, avg_session_time=266.0, avg_session_song=65.0, downgrade=0, upgrade=1, avg_thumbsup_session=4.0, avg_thumbsdown_session=3.0, song_palylist=8, num_friend=4, avg_rolladvert_session=2.0, avg_help_session=1.0),\n",
       " Row(userId='125', churn_flag=1, gender='M', time_since_regis=72, days_active=1, num_session=1, avg_session_time=30.0, avg_session_song=8.0, downgrade=0, upgrade=0, avg_thumbsup_session=0.0, avg_thumbsdown_session=0.0, song_palylist=0, num_friend=0, avg_rolladvert_session=1.0, avg_help_session=0.0),\n",
       " Row(userId='124', churn_flag=0, gender='F', time_since_regis=131, days_active=33, num_session=29, avg_session_time=579.0, avg_session_song=146.0, downgrade=0, upgrade=0, avg_thumbsup_session=7.0, avg_thumbsdown_session=2.0, song_palylist=118, num_friend=74, avg_rolladvert_session=1.0, avg_help_session=2.0),\n",
       " Row(userId='51', churn_flag=1, gender='M', time_since_regis=20, days_active=13, num_session=10, avg_session_time=872.0, avg_session_song=211.0, downgrade=0, upgrade=0, avg_thumbsup_session=11.0, avg_thumbsdown_session=3.0, song_palylist=52, num_friend=28, avg_rolladvert_session=0.0, avg_help_session=2.0)]"
      ]
     },
     "execution_count": 45,
     "metadata": {},
     "output_type": "execute_result"
    }
   ],
   "source": [
    "final_df.take(5)"
   ]
  },
  {
   "cell_type": "code",
   "execution_count": 31,
   "metadata": {},
   "outputs": [],
   "source": [
    "# create dummy variable for categorical variable gender\n",
    "category = final_df.select('gender').distinct().rdd.flatMap(lambda x:x).collect()\n",
    "dummy = [F.when(F.col('gender') == cat,1).otherwise(0)\\\n",
    "            .alias(str(cat)) for cat in category]\n",
    "final_df = final_df.select(final_df.columns+dummy)\n"
   ]
  },
  {
   "cell_type": "code",
   "execution_count": 32,
   "metadata": {},
   "outputs": [],
   "source": [
    "final_df = final_df.drop('gender')"
   ]
  },
  {
   "cell_type": "code",
   "execution_count": 48,
   "metadata": {},
   "outputs": [
    {
     "data": {
      "text/plain": [
       "[Row(userId='100010', churn_flag=0, time_since_regis=55, days_active=7, num_session=7, avg_session_time=154.0, avg_session_song=39.0, downgrade=0, upgrade=0, avg_thumbsup_session=3.0, avg_thumbsdown_session=1.0, song_palylist=7, num_friend=4, avg_rolladvert_session=9.0, avg_help_session=1.0, F=1, M=0),\n",
       " Row(userId='200002', churn_flag=0, time_since_regis=70, days_active=7, num_session=6, avg_session_time=266.0, avg_session_song=65.0, downgrade=0, upgrade=1, avg_thumbsup_session=4.0, avg_thumbsdown_session=3.0, song_palylist=8, num_friend=4, avg_rolladvert_session=2.0, avg_help_session=1.0, F=0, M=1)]"
      ]
     },
     "execution_count": 48,
     "metadata": {},
     "output_type": "execute_result"
    }
   ],
   "source": [
    "final_df.take(2)"
   ]
  },
  {
   "cell_type": "code",
   "execution_count": 33,
   "metadata": {},
   "outputs": [],
   "source": [
    "#create an vector for input variables\n",
    "cols = ['time_since_regis','days_active','num_session','avg_session_time','avg_session_song','downgrade','upgrade',\n",
    "        'avg_thumbsup_session','avg_thumbsdown_session','song_palylist','num_friend','avg_rolladvert_session',\n",
    "        'avg_help_session','F','M']\n",
    "assembler = VectorAssembler(inputCols=cols, outputCol=\"Feature_vec\")\n",
    "df_vec = assembler.transform(final_df)"
   ]
  },
  {
   "cell_type": "code",
   "execution_count": 54,
   "metadata": {},
   "outputs": [
    {
     "data": {
      "text/plain": [
       "[Row(userId='100010', churn_flag=0, time_since_regis=55, days_active=7, num_session=7, avg_session_time=154.0, avg_session_song=39.0, downgrade=0, upgrade=0, avg_thumbsup_session=3.0, avg_thumbsdown_session=1.0, song_palylist=7, num_friend=4, avg_rolladvert_session=9.0, avg_help_session=1.0, F=1, M=0, Feature_vec=DenseVector([55.0, 7.0, 7.0, 154.0, 39.0, 0.0, 0.0, 3.0, 1.0, 7.0, 4.0, 9.0, 1.0, 1.0, 0.0])),\n",
       " Row(userId='200002', churn_flag=0, time_since_regis=70, days_active=7, num_session=6, avg_session_time=266.0, avg_session_song=65.0, downgrade=0, upgrade=1, avg_thumbsup_session=4.0, avg_thumbsdown_session=3.0, song_palylist=8, num_friend=4, avg_rolladvert_session=2.0, avg_help_session=1.0, F=0, M=1, Feature_vec=DenseVector([70.0, 7.0, 6.0, 266.0, 65.0, 0.0, 1.0, 4.0, 3.0, 8.0, 4.0, 2.0, 1.0, 0.0, 1.0]))]"
      ]
     },
     "execution_count": 54,
     "metadata": {},
     "output_type": "execute_result"
    }
   ],
   "source": [
    "df_vec.take(2)"
   ]
  },
  {
   "cell_type": "code",
   "execution_count": 34,
   "metadata": {},
   "outputs": [],
   "source": [
    "# using standard scaler for feature vectors\n",
    "scaler = StandardScaler(inputCol=\"Feature_vec\", outputCol=\"Features_ss\")\n",
    "scalerModel = scaler.fit(df_vec)\n",
    "df_ss = scalerModel.transform(df_vec)"
   ]
  },
  {
   "cell_type": "code",
   "execution_count": 56,
   "metadata": {},
   "outputs": [
    {
     "data": {
      "text/plain": [
       "[Row(userId='100010', churn_flag=0, time_since_regis=55, days_active=7, num_session=7, avg_session_time=154.0, avg_session_song=39.0, downgrade=0, upgrade=0, avg_thumbsup_session=3.0, avg_thumbsdown_session=1.0, song_palylist=7, num_friend=4, avg_rolladvert_session=9.0, avg_help_session=1.0, F=1, M=0, Feature_vec=DenseVector([55.0, 7.0, 7.0, 154.0, 39.0, 0.0, 0.0, 3.0, 1.0, 7.0, 4.0, 9.0, 1.0, 1.0, 0.0]), Features_ss=DenseVector([1.4618, 0.6321, 0.4779, 0.8706, 0.9147, 0.0, 0.0, 1.2375, 1.0462, 0.214, 0.1943, 3.8734, 1.2263, 2.0013, 0.0])),\n",
       " Row(userId='200002', churn_flag=0, time_since_regis=70, days_active=7, num_session=6, avg_session_time=266.0, avg_session_song=65.0, downgrade=0, upgrade=1, avg_thumbsup_session=4.0, avg_thumbsdown_session=3.0, song_palylist=8, num_friend=4, avg_rolladvert_session=2.0, avg_help_session=1.0, F=0, M=1, Feature_vec=DenseVector([70.0, 7.0, 6.0, 266.0, 65.0, 0.0, 1.0, 4.0, 3.0, 8.0, 4.0, 2.0, 1.0, 0.0, 1.0]), Features_ss=DenseVector([1.8604, 0.6321, 0.4096, 1.5038, 1.5246, 0.0, 2.0231, 1.65, 3.1387, 0.2445, 0.1943, 0.8607, 1.2263, 0.0, 2.0013]))]"
      ]
     },
     "execution_count": 56,
     "metadata": {},
     "output_type": "execute_result"
    }
   ],
   "source": [
    "df_ss.take(2)"
   ]
  },
  {
   "cell_type": "markdown",
   "metadata": {},
   "source": [
    "# Modeling\n",
    "Split the full dataset into train, test, and validation sets. Test out several of the machine learning methods you learned. Evaluate the accuracy of the various models, tuning parameters as necessary. Determine your winning model based on test accuracy and report results on the validation set. Since the churned users are a fairly small subset, I suggest using F1 score as the metric to optimize."
   ]
  },
  {
   "cell_type": "code",
   "execution_count": 35,
   "metadata": {},
   "outputs": [],
   "source": [
    "data = df_ss.select(col(\"churn_flag\").alias(\"label\"), col(\"Features_ss\").alias(\"features\"))\n",
    "#data.head()"
   ]
  },
  {
   "cell_type": "code",
   "execution_count": 36,
   "metadata": {},
   "outputs": [],
   "source": [
    "#split the data into train and test\n",
    "train,test = data.randomSplit([0.75,0.25],seed = 42)"
   ]
  },
  {
   "cell_type": "code",
   "execution_count": 39,
   "metadata": {},
   "outputs": [],
   "source": [
    "# Train 3 classifiers, logistic regression, random forest, grandient boosting \n",
    "lr = LogisticRegression(maxIter=10, regParam=0.1, elasticNetParam=0.0)\n",
    "paramGrid = ParamGridBuilder() \\\n",
    "    .addGrid(lr.regParam, [0.1,0]) \\\n",
    "    .build()\n",
    "crossval = CrossValidator(estimator=lr,\n",
    "                          estimatorParamMaps=paramGrid,\n",
    "                          evaluator=MulticlassClassificationEvaluator(metricName = 'f1'),\n",
    "                          numFolds=3)  "
   ]
  },
  {
   "cell_type": "code",
   "execution_count": 40,
   "metadata": {},
   "outputs": [],
   "source": [
    "cvModel_lr = crossval.fit(train)"
   ]
  },
  {
   "cell_type": "code",
   "execution_count": 41,
   "metadata": {},
   "outputs": [
    {
     "data": {
      "text/plain": [
       "[0.696967562471393, 0.7526426865177713]"
      ]
     },
     "execution_count": 41,
     "metadata": {},
     "output_type": "execute_result"
    }
   ],
   "source": [
    "cvModel_lr.avgMetrics"
   ]
  },
  {
   "cell_type": "code",
   "execution_count": 43,
   "metadata": {},
   "outputs": [],
   "source": [
    "#Random Forest\n",
    "rf = RandomForestClassifier( featureSubsetStrategy=\"auto\",impurity='gini')\n",
    "paramGrid = ParamGridBuilder() \\\n",
    "    .addGrid(rf.numTrees, [10,30]) \\\n",
    "    .build()\n",
    "    #.addGrid(rf.maxDepth, [5,10]) \\\n",
    "    \n",
    "crossval = CrossValidator(estimator=rf,\n",
    "                          estimatorParamMaps=paramGrid,\n",
    "                          evaluator=MulticlassClassificationEvaluator(metricName = 'f1'),\n",
    "                          numFolds=3)"
   ]
  },
  {
   "cell_type": "code",
   "execution_count": 44,
   "metadata": {},
   "outputs": [],
   "source": [
    "cvModel_rf = crossval.fit(train)"
   ]
  },
  {
   "cell_type": "code",
   "execution_count": 45,
   "metadata": {},
   "outputs": [
    {
     "data": {
      "text/plain": [
       "[0.7640793773830914, 0.7668627186658883]"
      ]
     },
     "execution_count": 45,
     "metadata": {},
     "output_type": "execute_result"
    }
   ],
   "source": [
    "cvModel_rf.avgMetrics"
   ]
  },
  {
   "cell_type": "code",
   "execution_count": 47,
   "metadata": {},
   "outputs": [],
   "source": [
    "# Gradient Boosting\n",
    "gbt = GBTClassifier(maxIter=10)\n",
    "paramGrid = ParamGridBuilder() \\\n",
    "    .addGrid(gbt.maxDepth, [5,8]) \\\n",
    "    .addGrid(gbt.maxIter, [10,20]) \\\n",
    "    .build()\n",
    "crossval = CrossValidator(estimator=gbt,\n",
    "                          estimatorParamMaps=paramGrid,\n",
    "                          evaluator=MulticlassClassificationEvaluator(metricName = 'f1'),\n",
    "                          numFolds=3)"
   ]
  },
  {
   "cell_type": "code",
   "execution_count": 48,
   "metadata": {},
   "outputs": [],
   "source": [
    "cvModel_gbt = crossval.fit(train)"
   ]
  },
  {
   "cell_type": "code",
   "execution_count": 49,
   "metadata": {},
   "outputs": [
    {
     "data": {
      "text/plain": [
       "[0.796237692385646, 0.7818991690553772, 0.7802625589570833, 0.7802625589570833]"
      ]
     },
     "execution_count": 49,
     "metadata": {},
     "output_type": "execute_result"
    }
   ],
   "source": [
    "cvModel_gbt.avgMetrics"
   ]
  },
  {
   "cell_type": "code",
   "execution_count": 50,
   "metadata": {},
   "outputs": [],
   "source": [
    "test_results =cvModel_gbt.transform(test)"
   ]
  },
  {
   "cell_type": "code",
   "execution_count": 51,
   "metadata": {},
   "outputs": [],
   "source": [
    "# test accuracy\n",
    "accuracy_eval = MulticlassClassificationEvaluator(metricName = 'accuracy', labelCol='label')"
   ]
  },
  {
   "cell_type": "code",
   "execution_count": 52,
   "metadata": {},
   "outputs": [
    {
     "data": {
      "text/plain": [
       "0.7446808510638298"
      ]
     },
     "execution_count": 52,
     "metadata": {},
     "output_type": "execute_result"
    }
   ],
   "source": [
    "accuracy_eval.evaluate(test_results)"
   ]
  },
  {
   "cell_type": "code",
   "execution_count": 53,
   "metadata": {},
   "outputs": [],
   "source": [
    "# test f1 score\n",
    "f1_eval = MulticlassClassificationEvaluator(metricName = 'f1',labelCol = 'label')"
   ]
  },
  {
   "cell_type": "code",
   "execution_count": 54,
   "metadata": {},
   "outputs": [
    {
     "data": {
      "text/plain": [
       "0.7260494537090282"
      ]
     },
     "execution_count": 54,
     "metadata": {},
     "output_type": "execute_result"
    }
   ],
   "source": [
    "f1_eval.evaluate(test_results)"
   ]
  },
  {
   "cell_type": "code",
   "execution_count": 61,
   "metadata": {},
   "outputs": [
    {
     "data": {
      "text/plain": [
       "SparseVector(15, {0: 0.2484, 1: 0.1253, 2: 0.0454, 3: 0.136, 4: 0.0526, 5: 0.0059, 6: 0.0076, 7: 0.0358, 8: 0.0621, 9: 0.0362, 10: 0.0648, 11: 0.1026, 12: 0.0772, 14: 0.0})"
      ]
     },
     "execution_count": 61,
     "metadata": {},
     "output_type": "execute_result"
    }
   ],
   "source": [
    "imp = cvModel_gbt.bestModel.featureImportances\n",
    "imp"
   ]
  },
  {
   "cell_type": "code",
   "execution_count": 64,
   "metadata": {},
   "outputs": [
    {
     "data": {
      "text/plain": [
       "[0.24840725372422728,\n",
       " 0.12528923482127546,\n",
       " 0.04536268662398857,\n",
       " 0.13599572657921125,\n",
       " 0.05262310600662503,\n",
       " 0.005901269888577244,\n",
       " 0.007634274487668827,\n",
       " 0.03582658475125894,\n",
       " 0.06214009268876371,\n",
       " 0.03623522147809222,\n",
       " 0.06477801409580647,\n",
       " 0.102573178612076,\n",
       " 0.07721818794622269,\n",
       " 0.0,\n",
       " 1.5168296206388664e-05]"
      ]
     },
     "execution_count": 64,
     "metadata": {},
     "output_type": "execute_result"
    }
   ],
   "source": [
    "imp_list = []\n",
    "for i in range(15):\n",
    "    imp_list.append(imp[i])\n",
    "imp_list    "
   ]
  },
  {
   "cell_type": "code",
   "execution_count": 68,
   "metadata": {},
   "outputs": [
    {
     "data": {
      "image/png": "[encoded data removed]",
      "text/plain": [
       "<Figure size 432x288 with 1 Axes>"
      ]
     },
     "metadata": {},
     "output_type": "display_data"
    }
   ],
   "source": [
    "y_pos = np.arange(len(cols))\n",
    "\n",
    "\n",
    "plt.barh(y_pos, imp_list, align='center', alpha=0.5)\n",
    "plt.yticks(y_pos, cols)\n",
    "plt.ylabel('Feature')\n",
    "plt.title('Importance')\n",
    "\n",
    "plt.show()"
   ]
  },
  {
   "cell_type": "code",
   "execution_count": 56,
   "metadata": {},
   "outputs": [],
   "source": [
    "cvModel_gbt.bestModel.write().overwrite().save('GBTClassifier')"
   ]
  },
  {
   "cell_type": "code",
   "execution_count": 81,
   "metadata": {},
   "outputs": [
    {
     "data": {
      "text/plain": [
       "{Param(parent='GBTClassifier_bb02b1fa99e6', name='cacheNodeIds', doc='If false, the algorithm will pass trees to executors to match instances with nodes. If true, the algorithm will cache node IDs for each instance. Caching can speed up training of deeper trees.'): False,\n",
       " Param(parent='GBTClassifier_bb02b1fa99e6', name='checkpointInterval', doc='set checkpoint interval (>= 1) or disable checkpoint (-1). E.g. 10 means that the cache will get checkpointed every 10 iterations. Note: this setting will be ignored if the checkpoint directory is not set in the SparkContext'): 10,\n",
       " Param(parent='GBTClassifier_bb02b1fa99e6', name='featureSubsetStrategy', doc='The number of features to consider for splits at each tree node. Supported options: auto, all, onethird, sqrt, log2, (0.0-1.0], [1-n].'): 'all',\n",
       " Param(parent='GBTClassifier_bb02b1fa99e6', name='featuresCol', doc='features column name'): 'features',\n",
       " Param(parent='GBTClassifier_bb02b1fa99e6', name='labelCol', doc='label column name'): 'label',\n",
       " Param(parent='GBTClassifier_bb02b1fa99e6', name='lossType', doc='Loss function which GBT tries to minimize (case-insensitive). Supported options: logistic'): 'logistic',\n",
       " Param(parent='GBTClassifier_bb02b1fa99e6', name='maxBins', doc='Max number of bins for discretizing continuous features.  Must be >=2 and >= number of categories for any categorical feature.'): 32,\n",
       " Param(parent='GBTClassifier_bb02b1fa99e6', name='maxDepth', doc='Maximum depth of the tree. (>= 0) E.g., depth 0 means 1 leaf node; depth 1 means 1 internal node + 2 leaf nodes.'): 5,\n",
       " Param(parent='GBTClassifier_bb02b1fa99e6', name='maxIter', doc='maximum number of iterations (>= 0)'): 10,\n",
       " Param(parent='GBTClassifier_bb02b1fa99e6', name='maxMemoryInMB', doc='Maximum memory in MB allocated to histogram aggregation.'): 256,\n",
       " Param(parent='GBTClassifier_bb02b1fa99e6', name='minInfoGain', doc='Minimum information gain for a split to be considered at a tree node.'): 0.0,\n",
       " Param(parent='GBTClassifier_bb02b1fa99e6', name='minInstancesPerNode', doc='Minimum number of instances each child must have after split.  If a split causes the left or right child to have fewer than minInstancesPerNode, the split will be discarded as invalid. Should be >= 1.'): 1,\n",
       " Param(parent='GBTClassifier_bb02b1fa99e6', name='predictionCol', doc='prediction column name'): 'prediction',\n",
       " Param(parent='GBTClassifier_bb02b1fa99e6', name='seed', doc='random seed'): 2039850022664377654,\n",
       " Param(parent='GBTClassifier_bb02b1fa99e6', name='stepSize', doc='Step size (a.k.a. learning rate) in interval (0, 1] for shrinking the contribution of each estimator.'): 0.1,\n",
       " Param(parent='GBTClassifier_bb02b1fa99e6', name='subsamplingRate', doc='Fraction of the training data used for learning each decision tree, in range (0, 1].'): 1.0}"
      ]
     },
     "execution_count": 81,
     "metadata": {},
     "output_type": "execute_result"
    }
   ],
   "source": [
    "cvModel_gbt.bestModel.extractParamMap()\n"
   ]
  },
  {
   "cell_type": "code",
   "execution_count": 82,
   "metadata": {},
   "outputs": [],
   "source": [
    "#apply the optimized model on the whole dataset\n",
    "gbt_optimal = GBTClassifier(maxIter=10,maxDepth = 5)\n",
    "model = gbt_optimal.fit(data)"
   ]
  },
  {
   "cell_type": "code",
   "execution_count": 83,
   "metadata": {},
   "outputs": [],
   "source": [
    "# save the model\n",
    "model.write().overwrite().save('GBTClassifier')"
   ]
  },
  {
   "cell_type": "markdown",
   "metadata": {},
   "source": [
    "# Final Steps\n",
    "Clean up your code, adding comments and renaming variables to make the code easier to read and maintain. Refer to the Spark Project Overview page and Data Scientist Capstone Project Rubric to make sure you are including all components of the capstone project and meet all expectations. Remember, this includes thorough documentation in a README file in a Github repository, as well as a web app or blog post."
   ]
  },
  {
   "cell_type": "code",
   "execution_count": null,
   "metadata": {},
   "outputs": [],
   "source": []
  }
 ],
 "metadata": {
  "kernelspec": {
   "display_name": "Python 3",
   "language": "python",
   "name": "python3"
  },
  "language_info": {
   "codemirror_mode": {
    "name": "ipython",
    "version": 3
   },
   "file_extension": ".py",
   "mimetype": "text/x-python",
   "name": "python",
   "nbconvert_exporter": "python",
   "pygments_lexer": "ipython3",
   "version": "3.6.5"
  }
 },
 "nbformat": 4,
 "nbformat_minor": 2
}
